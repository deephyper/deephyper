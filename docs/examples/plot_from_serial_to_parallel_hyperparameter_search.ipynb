{
  "cells": [
    {
      "cell_type": "markdown",
      "metadata": {},
      "source": [
        "\n# From Serial to Parallel Evaluations\n\n**Author(s)**: Romain Egele.\n\nThis example demonstrates the advantages of parallel evaluations over serial evaluations. We start by defining an artificial black-box ``run``-function by using the Ackley function:\n\n<img src=\"https://www.sfu.ca/~ssurjano/ackley.png\" width=\"400\" alt=\"Ackley Function in 2D\">\n\nWe will use the ``time.sleep`` function to simulate a budget of 2 secondes of execution in average which helps illustrate the advantage of parallel evaluations. The ``@profile`` decorator is useful to collect starting/ending time of the ``run``-function execution which help us know exactly when we are inside the black-box. When using this decorator, the ``run``-function will return a dictionnary with 2 new keys ``\"timestamp_start\"`` and ``\"timestamp_end\"``. The ``run``-function is defined in a separate module because of the \"multiprocessing\" backend that we are using in this example.\n\n.. literalinclude:: ../../examples/black_box_util.py\n   :language: python\n\nAfter defining the black-box we can continue with the definition of our main script:\n"
      ]
    },
    {
      "cell_type": "code",
      "execution_count": null,
      "metadata": {
        "collapsed": false
      },
      "outputs": [],
      "source": [
        "import black_box_util as black_box\n\nfrom deephyper.analysis._matplotlib import update_matplotlib_rc\n\nupdate_matplotlib_rc()"
      ]
    },
    {
      "cell_type": "markdown",
      "metadata": {},
      "source": [
        "Then we define the variable(s) we want to optimize. For this problem we optimize Ackley in a 2-dimensional search space, the true minimul is located at ``(0, 0)``.\n\n"
      ]
    },
    {
      "cell_type": "code",
      "execution_count": null,
      "metadata": {
        "collapsed": false
      },
      "outputs": [],
      "source": [
        "from deephyper.problem import HpProblem\n\n\nnb_dim = 2\nproblem = HpProblem()\nfor i in range(nb_dim):\n    problem.add_hyperparameter((-32.768, 32.768), f\"x{i}\")\nproblem"
      ]
    },
    {
      "cell_type": "markdown",
      "metadata": {},
      "source": [
        "Then we define serial search by creation a ``\"serial\"``-evaluator and we execute the search with a fixed time-budget of 2 minutes (i.e., 120 secondes).\n\n"
      ]
    },
    {
      "cell_type": "code",
      "execution_count": null,
      "metadata": {
        "collapsed": false
      },
      "outputs": [],
      "source": [
        "if __name__ == \"__main__\":\n    from deephyper.evaluator import Evaluator\n    from deephyper.evaluator.callback import TqdmCallback\n    from deephyper.search.hps import CBO\n\n    # we give a budget of 2 minutes for each search\n    timeout = 120\n    serial_evaluator = Evaluator.create(\n        black_box.run_ackley,\n        method=\"serial\",\n        method_kwargs={\"callbacks\": [TqdmCallback()]},\n    )\n    print(\"Running serial search...\")\n    results = {}\n    serial_search = CBO(problem, serial_evaluator, random_state=42)\n    results[\"serial\"] = serial_search.search(timeout=timeout)\n    results[\"serial\"][\"m:timestamp_end\"] = (\n        results[\"serial\"][\"m:timestamp_end\"]\n        - results[\"serial\"][\"m:timestamp_start\"].iloc[0]\n    )"
      ]
    },
    {
      "cell_type": "markdown",
      "metadata": {},
      "source": [
        "After, executing the serial-search for 2 minutes we can create a parallel search which uses the ``\"process\"``-evaluator and defines 5 parallel workers. The search is also executed for 2 minutes.\n\n"
      ]
    },
    {
      "cell_type": "code",
      "execution_count": null,
      "metadata": {
        "collapsed": false
      },
      "outputs": [],
      "source": [
        "if __name__ == \"__main__\":\n    parallel_evaluator = Evaluator.create(\n        black_box.run_ackley,\n        method=\"process\",\n        method_kwargs={\"num_workers\": 5, \"callbacks\": [TqdmCallback()]},\n    )\n    print(\"Running parallel search...\")\n    parallel_search = CBO(problem, parallel_evaluator, random_state=42)\n    results[\"parallel\"] = parallel_search.search(timeout=timeout)\n    results[\"parallel\"][\"m:timestamp_end\"] = (\n        results[\"parallel\"][\"m:timestamp_end\"]\n        - results[\"parallel\"][\"m:timestamp_start\"].iloc[0]\n    )"
      ]
    },
    {
      "cell_type": "markdown",
      "metadata": {},
      "source": [
        "Finally, we plot the results from the collected DataFrame. The execution time is used as the x-axis which help-us vizualise the advantages of the parallel search.\n\n"
      ]
    },
    {
      "cell_type": "code",
      "execution_count": null,
      "metadata": {
        "collapsed": false
      },
      "outputs": [],
      "source": [
        "if __name__ == \"__main__\":\n    import matplotlib.pyplot as plt\n\n    plt.figure()\n\n    for strategy, df in results.items():\n        plt.scatter(df[\"m:timestamp_end\"], df.objective, label=strategy)\n        plt.plot(df[\"m:timestamp_end\"], df.objective.cummax())\n\n    plt.xlabel(\"Time (sec.)\")\n    plt.ylabel(\"Objective\")\n    plt.grid()\n    plt.legend()\n    plt.show()"
      ]
    }
  ],
  "metadata": {
    "kernelspec": {
      "display_name": "Python 3",
      "language": "python",
      "name": "python3"
    },
    "language_info": {
      "codemirror_mode": {
        "name": "ipython",
        "version": 3
      },
      "file_extension": ".py",
      "mimetype": "text/x-python",
      "name": "python",
      "nbconvert_exporter": "python",
      "pygments_lexer": "ipython3",
      "version": "3.11.6"
    }
  },
  "nbformat": 4,
  "nbformat_minor": 0
}