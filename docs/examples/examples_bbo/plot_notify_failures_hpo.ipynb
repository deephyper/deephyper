{
  "cells": [
    {
      "cell_type": "markdown",
      "metadata": {},
      "source": [
        "\n# Notify Failures in Hyperparameter optimization\n\n**Author(s)**: Romain Egele.\n\nIn this example, you will learn how to handle failures in black-box optimization.\nIn many application of black-box optimization such as software auto-tuning (where we\nminimize the run-time of a software application) some configurations can\ncreate run-time errors and therefore no scalar objective is returned. A\ndefault choice could be to return in this case the worst case objective if\nknown. Other possibilites are to ignore these configurations or to replace \nthem with the running average or minimum objective.\n"
      ]
    },
    {
      "cell_type": "code",
      "execution_count": null,
      "metadata": {
        "collapsed": false
      },
      "outputs": [],
      "source": [
        "# .. dropdown:: Import statements\nimport matplotlib.pyplot as plt\nimport numpy as np\n\nfrom deephyper.hpo import HpProblem\nfrom deephyper.hpo import CBO\nfrom deephyper.evaluator import Evaluator\nfrom deephyper.evaluator.callback import TqdmCallback\n\nWIDTH_PLOTS = 8\nHEIGHT_PLOTS = WIDTH_PLOTS / 1.618"
      ]
    },
    {
      "cell_type": "markdown",
      "metadata": {},
      "source": [
        "To illustrate such a use-case we define a ``run``-function that will fail when its \ninput parameter ``p_failure`` is greater than 0.5.\nTo notify deephyper about a failure, we return a \"string\" value with ``\"F\"`` as prefix such as:\n\n"
      ]
    },
    {
      "cell_type": "code",
      "execution_count": null,
      "metadata": {
        "collapsed": false
      },
      "outputs": [],
      "source": [
        "def run(job) -> float:\n    if job.parameters[\"p_failure\"] > 0.5:\n        try:\n            raise ValueError(\"Some example exception\")\n        except ValueError:\n            # Notify the search about the failure\n            return \"F_value_error\"\n    else:\n        # Returns a regular objective value that is maximized\n        return sum(job.parameters[k] for k in job.parameters if \"x\" in k)"
      ]
    },
    {
      "cell_type": "markdown",
      "metadata": {},
      "source": [
        "Then, we define the corresponding hyperparameter problem where ``x{i}`` are the\nvalue to maximize and ``p_parameter`` is a value that impact the appearance of failures.\n\n"
      ]
    },
    {
      "cell_type": "code",
      "execution_count": null,
      "metadata": {
        "collapsed": false
      },
      "outputs": [],
      "source": [
        "problem = HpProblem()\nproblem.add_hyperparameter((0.0, 1.0), \"p_failure\")\nfor i in range(10):\n    problem.add_hyperparameter((0.0, 1.0), f\"x{i}\")\nproblem"
      ]
    },
    {
      "cell_type": "markdown",
      "metadata": {},
      "source": [
        "We use the centralized Bayesian optimization (CBO) for the search.\nThe :class:`deephyper.hpo.CBO` has a parameter ``filter_failures``.\nWe will compare:\n\n- ``filter_failures=\"ignore\"``: filters-out failed configurations.\n- ``filter_failures=\"mean\"``: replaces failures with the running average of non-failed objectives.\n- ``filter_failures=\"min\"``: replaces failures with the running minimum of non-failed objectives.\n\n"
      ]
    },
    {
      "cell_type": "code",
      "execution_count": null,
      "metadata": {
        "collapsed": false
      },
      "outputs": [],
      "source": [
        "results = {}\nmax_evals = 100"
      ]
    },
    {
      "cell_type": "code",
      "execution_count": null,
      "metadata": {
        "collapsed": false
      },
      "outputs": [],
      "source": [
        "for failure_strategy in [\"ignore\", \"mean\", \"min\"]:\n\n    evaluator = Evaluator.create(\n        run,\n        method=\"thread\",\n        method_kwargs={\n            \"callbacks\": [TqdmCallback(f\"Failure Strategy: {failure_strategy}\")]}\n    )\n\n    search = CBO(\n        problem,\n        evaluator,\n        acq_func=\"UCBd\",\n        acq_optimizer=\"ga\",\n        acq_optimizer_freq=1,\n        filter_duplicated=False,\n        filter_failures=failure_strategy,\n        log_dir=f\"search_{failure_strategy}\",\n        random_state=42,\n    )\n\n    results[failure_strategy] = search.search(max_evals)"
      ]
    },
    {
      "cell_type": "markdown",
      "metadata": {},
      "source": [
        "Finally we plot the collected results.\nWe can see that the ``\"mean\"`` and ``min`` strategy have much less failures than ``\"ignore\"``.\nIn addition, we observe that they return significantly better objectives.\n\n"
      ]
    },
    {
      "cell_type": "code",
      "execution_count": null,
      "metadata": {
        "collapsed": false
      },
      "outputs": [],
      "source": [
        "# .. dropdown:: Plot results with failures\nfig, axes = plt.subplots(nrows=3, ncols=1, figsize=(WIDTH_PLOTS, HEIGHT_PLOTS), tight_layout=True, sharex=True, sharey=True)\nfor i, (failure_strategy, df) in enumerate(results.items()):\n    \n    if df.objective.dtype != np.float64:\n        x = np.arange(len(df))\n        mask_failed = np.where(df.objective.str.startswith(\"F\"))[0]\n        mask_success = np.where(~df.objective.str.startswith(\"F\"))[0]\n        x_success, x_failed = x[mask_success], x[mask_failed]\n        y_success = df[\"objective\"][mask_success].astype(float)\n\n    axes[i].scatter(x_success, y_success, label=failure_strategy)\n    axes[i].scatter(x_failed, np.zeros(x_failed.shape), marker=\"v\", color=\"red\")\n\n    axes[i].set_xlabel(\"Evalutions\")\n    axes[i].set_ylabel(\"Objective\")\n    axes[i].legend()\n    axes[i].grid()"
      ]
    }
  ],
  "metadata": {
    "kernelspec": {
      "display_name": "Python 3",
      "language": "python",
      "name": "python3"
    },
    "language_info": {
      "codemirror_mode": {
        "name": "ipython",
        "version": 3
      },
      "file_extension": ".py",
      "mimetype": "text/x-python",
      "name": "python",
      "nbconvert_exporter": "python",
      "pygments_lexer": "ipython3",
      "version": "3.12.7"
    }
  },
  "nbformat": 4,
  "nbformat_minor": 0
}