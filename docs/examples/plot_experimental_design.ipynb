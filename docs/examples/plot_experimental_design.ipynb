{
  "cells": [
    {
      "cell_type": "markdown",
      "metadata": {},
      "source": [
        "\n# Standard Experimental Design (Grid Search)\n\n**Author(s)**: Romain Egele.\n\nThis example demonstrates how to generate points from standard experimental\ndesigns (e.g., random, grid, lhs).\n"
      ]
    },
    {
      "cell_type": "code",
      "execution_count": null,
      "metadata": {
        "collapsed": false
      },
      "outputs": [],
      "source": [
        "from deephyper.analysis._matplotlib import update_matplotlib_rc\nfrom deephyper.hpo import HpProblem\nfrom deephyper.hpo import ExperimentalDesignSearch\nimport matplotlib.pyplot as plt\n\nupdate_matplotlib_rc()"
      ]
    },
    {
      "cell_type": "markdown",
      "metadata": {},
      "source": [
        "First we define the hyperparameter search space.\n\n"
      ]
    },
    {
      "cell_type": "code",
      "execution_count": null,
      "metadata": {
        "collapsed": false
      },
      "outputs": [],
      "source": [
        "problem = HpProblem()\nproblem.add_hyperparameter((0.0001, 100.0, \"log-uniform\"), \"x\")\nproblem.add_hyperparameter((0.0, 100.0), \"y\")\nproblem.add_hyperparameter([1, 2, 3], \"z\")\nproblem"
      ]
    },
    {
      "cell_type": "markdown",
      "metadata": {},
      "source": [
        "Then we define the black-box function to optimize.\n\n"
      ]
    },
    {
      "cell_type": "code",
      "execution_count": null,
      "metadata": {
        "collapsed": false
      },
      "outputs": [],
      "source": [
        "def run(job):\n    config = job.parameters\n    objective = config[\"x\"] + config[\"y\"]\n    return objective"
      ]
    },
    {
      "cell_type": "markdown",
      "metadata": {},
      "source": [
        "Then we define the search. In this example, we use the\n`ExperimentalDesignSearch` class to generate points from a grid design. The\n`Evaluator` can also be used with this class to parallelize evalutions.\nNote that `n_points` and `max_evals` take the same value here.\n\n"
      ]
    },
    {
      "cell_type": "code",
      "execution_count": null,
      "metadata": {
        "collapsed": false
      },
      "outputs": [],
      "source": [
        "max_evals = 200\nsearch = ExperimentalDesignSearch(problem, run, n_points=max_evals, design=\"grid\")\nresults = search.search(max_evals)"
      ]
    },
    {
      "cell_type": "markdown",
      "metadata": {},
      "source": [
        "Finally, we plot the results from the collected DataFrame.\n\n"
      ]
    },
    {
      "cell_type": "code",
      "execution_count": null,
      "metadata": {
        "collapsed": false
      },
      "outputs": [],
      "source": [
        "fig, ax = plt.subplots()\nax.scatter(results[\"p:x\"], results[\"p:y\"], c=results[\"p:z\"], alpha=0.3)\nax.set_xscale(\"log\")\nplt.xlabel(\"x\")\nplt.ylabel(\"y\")\nplt.show()"
      ]
    }
  ],
  "metadata": {
    "kernelspec": {
      "display_name": "Python 3",
      "language": "python",
      "name": "python3"
    },
    "language_info": {
      "codemirror_mode": {
        "name": "ipython",
        "version": 3
      },
      "file_extension": ".py",
      "mimetype": "text/x-python",
      "name": "python",
      "nbconvert_exporter": "python",
      "pygments_lexer": "ipython3",
      "version": "3.12.4"
    }
  },
  "nbformat": 4,
  "nbformat_minor": 0
}