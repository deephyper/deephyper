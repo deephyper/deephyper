{
  "cells": [
    {
      "cell_type": "markdown",
      "metadata": {},
      "source": [
        "\n# Hyperparameter search for text classification\n\n**Author(s)**: Romain Egele, Brett Eiffert.\n\n \nIn this tutorial we present how to use hyperparameter optimization on a text classification analysis example from the Pytorch documentation.\n \n**Reference**:\nThis tutorial is based on materials from the Pytorch Documentation: [Text classification with the torchtext library](https://pytorch.org/tutorials/beginner/text_sentiment_ngrams_tutorial.html)\n"
      ]
    },
    {
      "cell_type": "code",
      "execution_count": null,
      "metadata": {
        "collapsed": false
      },
      "outputs": [],
      "source": [
        "%%bash\npip install deephyper\npip install ray\npip install torch torchtext torchdata"
      ]
    },
    {
      "cell_type": "markdown",
      "metadata": {},
      "source": [
        "## Imports\n\n"
      ]
    },
    {
      "cell_type": "code",
      "execution_count": null,
      "metadata": {
        "collapsed": false
      },
      "outputs": [],
      "source": [
        "import ray\nimport json\nimport pandas as pd\nfrom functools import partial\n\nimport torch\n\nfrom torchtext.data.utils import get_tokenizer\nfrom torchtext.data.functional import to_map_style_dataset\nfrom torchtext.vocab import build_vocab_from_iterator\n\nfrom torch.utils.data import DataLoader\nfrom torch.utils.data.dataset import random_split\n\nfrom torch import nn"
      ]
    },
    {
      "cell_type": "markdown",
      "metadata": {},
      "source": [
        "<div class=\"alert alert-info\"><h4>Note</h4><p>The following can be used to detect if <b>CUDA</b> devices are available on the current host. Therefore, this notebook will automatically adapt the parallel execution based on the ressources available locally. However, it will not be the case if many compute nodes are requested.</p></div>\n\n\n"
      ]
    },
    {
      "cell_type": "code",
      "execution_count": null,
      "metadata": {
        "collapsed": false
      },
      "outputs": [],
      "source": [
        "is_gpu_available = torch.cuda.is_available()\nn_gpus = torch.cuda.device_count()"
      ]
    },
    {
      "cell_type": "markdown",
      "metadata": {},
      "source": [
        "## The dataset\n\nThe torchtext library provides a few raw dataset iterators, which yield the raw text strings. For example, the :code:`AG_NEWS` dataset iterators yield the raw data as a tuple of label and text. It has four labels (1 : World 2 : Sports 3 : Business 4 : Sci/Tec).\n\n\n"
      ]
    },
    {
      "cell_type": "code",
      "execution_count": null,
      "metadata": {
        "collapsed": false
      },
      "outputs": [],
      "source": [
        "from torchtext.datasets import AG_NEWS\n\ndef load_data(train_ratio, fast=False):\n    train_iter, test_iter = AG_NEWS()\n    train_dataset = to_map_style_dataset(train_iter)\n    test_dataset = to_map_style_dataset(test_iter)\n    num_train = int(len(train_dataset) * train_ratio)\n    split_train, split_valid = \\\n        random_split(train_dataset, [num_train, len(train_dataset) - num_train])\n    \n    ## downsample\n    if fast:\n        split_train, _ = random_split(split_train, [int(len(split_train)*.05), int(len(split_train)*.95)])\n        split_valid, _ = random_split(split_valid, [int(len(split_valid)*.05), int(len(split_valid)*.95)])\n        test_dataset, _ = random_split(test_dataset, [int(len(test_dataset)*.05), int(len(test_dataset)*.95)])\n\n    return split_train, split_valid, test_dataset"
      ]
    },
    {
      "cell_type": "markdown",
      "metadata": {},
      "source": [
        "## Preprocessing pipelines and Batch generation\n\nHere is an example for typical NLP data processing with tokenizer and vocabulary. The first step is to build a vocabulary with the raw training dataset. Here we use built in\nfactory function :code:`build_vocab_from_iterator` which accepts iterator that yield list or iterator of tokens. Users can also pass any special symbols to be added to the\nvocabulary.\n\nThe vocabulary block converts a list of tokens into integers.\n\n"
      ]
    },
    {
      "cell_type": "markdown",
      "metadata": {},
      "source": [
        "```python\nvocab(['here', 'is', 'an', 'example'])\n>>> [475, 21, 30, 5286]\n```\n"
      ]
    },
    {
      "cell_type": "markdown",
      "metadata": {},
      "source": [
        "The text pipeline converts a text string into a list of integers based on the lookup table defined in the vocabulary. The label pipeline converts the label into integers. For example,\n\n"
      ]
    },
    {
      "cell_type": "markdown",
      "metadata": {},
      "source": [
        "```python\ntext_pipeline('here is the an example')\n>>> [475, 21, 2, 30, 5286]\nlabel_pipeline('10')\n>>> 9\n```\n"
      ]
    },
    {
      "cell_type": "code",
      "execution_count": null,
      "metadata": {
        "collapsed": false
      },
      "outputs": [],
      "source": [
        "train_iter = AG_NEWS(split='train')\nnum_class = 4\n\ntokenizer = get_tokenizer('basic_english')\n\ndef yield_tokens(data_iter):\n    for _, text in data_iter:\n        yield tokenizer(text)\n\nvocab = build_vocab_from_iterator(yield_tokens(train_iter), specials=[\"<unk>\"])\nvocab.set_default_index(vocab[\"<unk>\"])\nvocab_size = len(vocab)\n\ntext_pipeline = lambda x: vocab(tokenizer(x))\nlabel_pipeline = lambda x: int(x) - 1\n\n\ndef collate_batch(batch, device):\n    label_list, text_list, offsets = [], [], [0]\n    for (_label, _text) in batch:\n        label_list.append(label_pipeline(_label))\n        processed_text = torch.tensor(text_pipeline(_text), dtype=torch.int64)\n        text_list.append(processed_text)\n        offsets.append(processed_text.size(0))\n    label_list = torch.tensor(label_list, dtype=torch.int64)\n    offsets = torch.tensor(offsets[:-1]).cumsum(dim=0)\n    text_list = torch.cat(text_list)\n    return label_list.to(device), text_list.to(device), offsets.to(device)"
      ]
    },
    {
      "cell_type": "markdown",
      "metadata": {},
      "source": [
        "<div class=\"alert alert-info\"><h4>Note</h4><p>The :code:`collate_fn` function works on a batch of samples generated from :code:`DataLoader`. The input to :code:`collate_fn` is a batch of data with the batch size in :code:`DataLoader`, and :code:`collate_fn` processes them according to the data processing pipelines declared previously.</p></div>\n\n\n"
      ]
    },
    {
      "cell_type": "markdown",
      "metadata": {},
      "source": [
        "## Define the model\n\nThe model is composed of the [nn.EmbeddingBag](https://pytorch.org/docs/stable/nn.html?highlight=embeddingbag#torch.nn.EmbeddingBag) layer plus a linear layer for the classification purpose.\n\n"
      ]
    },
    {
      "cell_type": "code",
      "execution_count": null,
      "metadata": {
        "collapsed": false
      },
      "outputs": [],
      "source": [
        "class TextClassificationModel(nn.Module):\n\n    def __init__(self, vocab_size, embed_dim, num_class):\n        super(TextClassificationModel, self).__init__()\n        self.embedding = nn.EmbeddingBag(vocab_size, embed_dim, sparse=False)\n        self.fc = nn.Linear(embed_dim, num_class)\n        self.init_weights()\n\n    def init_weights(self):\n        initrange = 0.5\n        self.embedding.weight.data.uniform_(-initrange, initrange)\n        self.fc.weight.data.uniform_(-initrange, initrange)\n        self.fc.bias.data.zero_()\n\n    def forward(self, text, offsets):\n        embedded = self.embedding(text, offsets)\n        return self.fc(embedded)"
      ]
    },
    {
      "cell_type": "markdown",
      "metadata": {},
      "source": [
        "## Define functions to train the model and evaluate results.\n\n"
      ]
    },
    {
      "cell_type": "code",
      "execution_count": null,
      "metadata": {
        "collapsed": false
      },
      "outputs": [],
      "source": [
        "def train(model, criterion, optimizer, dataloader):\n    model.train()\n\n    for _, (label, text, offsets) in enumerate(dataloader):\n        optimizer.zero_grad()\n        predicted_label = model(text, offsets)\n        loss = criterion(predicted_label, label)\n        loss.backward()\n        torch.nn.utils.clip_grad_norm_(model.parameters(), 0.1)\n        optimizer.step()\n\ndef evaluate(model, dataloader):\n    model.eval()\n    total_acc, total_count = 0, 0\n\n    with torch.no_grad():\n        for _, (label, text, offsets) in enumerate(dataloader):\n            predicted_label = model(text, offsets)\n            total_acc += (predicted_label.argmax(1) == label).sum().item()\n            total_count += label.size(0)\n    return total_acc/total_count"
      ]
    },
    {
      "cell_type": "markdown",
      "metadata": {},
      "source": [
        "## Define the run-function\n\nThe run-function defines how the objective that we want to maximize is computed. It takes a :code:`config` dictionary as input and often returns a scalar value that we want to maximize. The :code:`config` contains a sample value of hyperparameters that we want to tune. In this example we will search for:\n\n* :code:`num_epochs` (default value: :code:`10`)\n* :code:`batch_size` (default value: :code:`64`)\n* :code:`learning_rate` (default value: :code:`5`)\n\nA hyperparameter value can be acessed easily in the dictionary through the corresponding key, for example :code:`config[\"units\"]`.\n\n"
      ]
    },
    {
      "cell_type": "code",
      "execution_count": null,
      "metadata": {
        "collapsed": false
      },
      "outputs": [],
      "source": [
        "def get_run(train_ratio=0.95):\n  def run(config: dict):\n    device = torch.device(\"cuda\" if torch.cuda.is_available() else \"cpu\")\n\n    embed_dim = 64\n    \n    collate_fn = partial(collate_batch, device=device)\n    split_train, split_valid, _ = load_data(train_ratio, fast=True) # set fast=false for longer running, more accurate example\n    train_dataloader = DataLoader(split_train, batch_size=int(config[\"batch_size\"]),\n                                shuffle=True, collate_fn=collate_fn)\n    valid_dataloader = DataLoader(split_valid, batch_size=int(config[\"batch_size\"]),\n                                shuffle=True, collate_fn=collate_fn)\n\n    model = TextClassificationModel(vocab_size, int(embed_dim), num_class).to(device)\n      \n    criterion = torch.nn.CrossEntropyLoss()\n    optimizer = torch.optim.SGD(model.parameters(), lr=config[\"learning_rate\"])\n\n    for _ in range(1, int(config[\"num_epochs\"]) + 1):\n        train(model, criterion, optimizer, train_dataloader)\n    \n    accu_test = evaluate(model, valid_dataloader)\n    return accu_test\n  return run"
      ]
    },
    {
      "cell_type": "markdown",
      "metadata": {},
      "source": [
        "We create two versions of :code:`run`, one quicker to evaluate for the search, with a small training dataset, and another one, for performance evaluation, which uses a normal training/validation ratio.\n\n"
      ]
    },
    {
      "cell_type": "code",
      "execution_count": null,
      "metadata": {
        "collapsed": false
      },
      "outputs": [],
      "source": [
        "quick_run = get_run(train_ratio=0.3)\nperf_run = get_run(train_ratio=0.95)"
      ]
    },
    {
      "cell_type": "markdown",
      "metadata": {},
      "source": [
        "<div class=\"alert alert-info\"><h4>Note</h4><p>The objective maximised by DeepHyper is the scalar value returned by the :code:`run`-function.</p></div>\n\nIn this tutorial it corresponds to the validation accuracy of the model after training.\n\n"
      ]
    },
    {
      "cell_type": "markdown",
      "metadata": {},
      "source": [
        "Define the Hyperparameter optimization problem\n---------------------------------------------- \n\nHyperparameter ranges are defined using the following syntax:\n\n* Discrete integer ranges are generated from a tuple :code:`(lower: int, upper: int)`\n* Continuous prarameters are generated from a tuple :code:`(lower: float, upper: float)`\n* Categorical or nonordinal hyperparameter ranges can be given as a list of possible values :code:`[val1, val2, ...]`\n\nWe provide the default configuration of hyperparameters as a starting point of the problem.\n\n"
      ]
    },
    {
      "cell_type": "code",
      "execution_count": null,
      "metadata": {
        "collapsed": false
      },
      "outputs": [],
      "source": [
        "from deephyper.hpo import HpProblem\n\nproblem = HpProblem()\n\n# Discrete hyperparameter (sampled with uniform prior)\nproblem.add_hyperparameter((5, 20), \"num_epochs\", default_value=10)\n\n# Discrete and Real hyperparameters (sampled with log-uniform)\nproblem.add_hyperparameter((8, 512, \"log-uniform\"), \"batch_size\", default_value=64)\nproblem.add_hyperparameter((0.1, 10, \"log-uniform\"), \"learning_rate\", default_value=5)\n\nproblem"
      ]
    },
    {
      "cell_type": "markdown",
      "metadata": {},
      "source": [
        "## Evaluate a default configuration\n\nWe evaluate the performance of the default set of hyperparameters provided in the Pytorch tutorial.\n\n"
      ]
    },
    {
      "cell_type": "code",
      "execution_count": null,
      "metadata": {
        "collapsed": false
      },
      "outputs": [],
      "source": [
        "#We launch the Ray run-time and execute the `run` function\n#with the default configuration\nif is_gpu_available:\n    if not(ray.is_initialized()):\n        ray.init(num_cpus=n_gpus, num_gpus=n_gpus, log_to_driver=False)\n    \n    run_default = ray.remote(num_cpus=1, num_gpus=1)(perf_run)\n    objective_default = ray.get(run_default.remote(problem.default_configuration))\nelse:\n    if not(ray.is_initialized()):\n        ray.init(num_cpus=1, log_to_driver=False)\n    run_default = perf_run\n    objective_default = run_default(problem.default_configuration)\n\nprint(f\"Accuracy Default Configuration:  {objective_default:.3f}\")"
      ]
    },
    {
      "cell_type": "markdown",
      "metadata": {},
      "source": [
        "## Define the evaluator object\n\nThe :code:`Evaluator` object allows to change the parallelization backend used by DeepHyper.  \nIt is a standalone object which schedules the execution of remote tasks. All evaluators needs a :code:`run_function` to be instantiated.  \nThen a keyword :code:`method` defines the backend (e.g., :code:`\"ray\"`) and the :code:`method_kwargs` corresponds to keyword arguments of this chosen :code:`method`.\n\n"
      ]
    },
    {
      "cell_type": "markdown",
      "metadata": {},
      "source": [
        "```python\nevaluator = Evaluator.create(run_function, method, method_kwargs)\n```\n"
      ]
    },
    {
      "cell_type": "markdown",
      "metadata": {},
      "source": [
        "Once created the :code:`evaluator.num_workers` gives access to the number of available parallel workers.\n\nFinally, to submit and collect tasks to the evaluator one just needs to use the following interface:\n\n"
      ]
    },
    {
      "cell_type": "markdown",
      "metadata": {},
      "source": [
        "```python\nconfigs = [...]\nevaluator.submit(configs)\n```\n\t...\n\ttasks_done = evaluator.get(\"BATCH\", size=1) # For asynchronous\n\ttasks_done = evaluator.get(\"ALL\") # For batch synchronous\n\n"
      ]
    },
    {
      "cell_type": "markdown",
      "metadata": {},
      "source": [
        "<div class=\"alert alert-danger\"><h4>Warning</h4><p>Each `Evaluator` saves its own state, therefore it is crucial to create a new evaluator when launching a fresh search.</p></div>\n\n"
      ]
    },
    {
      "cell_type": "code",
      "execution_count": null,
      "metadata": {
        "collapsed": false
      },
      "outputs": [],
      "source": [
        "from deephyper.evaluator import Evaluator\nfrom deephyper.evaluator.callback import TqdmCallback\n\ndef get_evaluator(run_function):\n    # Default arguments for Ray: 1 worker and 1 worker per evaluation\n    method_kwargs = {\n        \"num_cpus\": 1, \n        \"num_cpus_per_task\": 1,\n        \"callbacks\": [TqdmCallback()]\n    }\n\n    # If GPU devices are detected then it will create 'n_gpus' workers\n    # and use 1 worker for each evaluation\n    if is_gpu_available:\n        method_kwargs[\"num_cpus\"] = n_gpus\n        method_kwargs[\"num_gpus\"] = n_gpus\n        method_kwargs[\"num_cpus_per_task\"] = 1\n        method_kwargs[\"num_gpus_per_task\"] = 1\n\n    evaluator = Evaluator.create(\n        run_function, \n        method=\"ray\", \n        method_kwargs=method_kwargs\n    )\n    print(f\"Created new evaluator with {evaluator.num_workers} worker{'s' if evaluator.num_workers > 1 else ''} and config: {method_kwargs}\", )\n    \n    return evaluator\n\nevaluator_1 = get_evaluator(quick_run)"
      ]
    },
    {
      "cell_type": "markdown",
      "metadata": {},
      "source": [
        "## Define and run the Centralized Bayesian Optimization search (CBO)\n\nWe create the CBO using the :code:`problem` and :code:`evaluator` defined above.\n\n"
      ]
    },
    {
      "cell_type": "code",
      "execution_count": null,
      "metadata": {
        "collapsed": false
      },
      "outputs": [],
      "source": [
        "from deephyper.hpo import CBO"
      ]
    },
    {
      "cell_type": "markdown",
      "metadata": {},
      "source": [
        "Instanciate the search with the problem and a specific evaluator\n\n"
      ]
    },
    {
      "cell_type": "code",
      "execution_count": null,
      "metadata": {
        "collapsed": false
      },
      "outputs": [],
      "source": [
        "search = CBO(problem, evaluator_1)"
      ]
    },
    {
      "cell_type": "markdown",
      "metadata": {},
      "source": [
        "<div class=\"alert alert-info\"><h4>Note</h4><p>All DeepHyper's search algorithm have two stopping criteria:\n      * :code:`max_evals (int)`: Defines the maximum number of evaluations that we want to perform. Default to :code:`-1` for an infinite number.\n      * :code:`timeout (int)`: Defines a time budget (in seconds) before stopping the search. Default to :code:`None` for an infinite time budget.</p></div>\n\n\n"
      ]
    },
    {
      "cell_type": "code",
      "execution_count": null,
      "metadata": {
        "collapsed": false
      },
      "outputs": [],
      "source": [
        "results = search.search(max_evals=30)"
      ]
    },
    {
      "cell_type": "markdown",
      "metadata": {},
      "source": [
        "The returned :code:`results` is a Pandas Dataframe where columns are hyperparameters and information stored by the evaluator:\n\n* :code:`job_id` is a unique identifier corresponding to the order of creation of tasks\n* :code:`objective` is the value returned by the run-function\n* :code:`timestamp_submit` is the time (in seconds) when the hyperparameter configuration was submitted by the :code:`Evaluator` relative to the creation of the evaluator.\n* :code:`timestamp_gather` is the time (in seconds) when the hyperparameter configuration was collected by the :code:`Evaluator` relative to the creation of the evaluator.\n\n"
      ]
    },
    {
      "cell_type": "code",
      "execution_count": null,
      "metadata": {
        "collapsed": false
      },
      "outputs": [],
      "source": [
        "results"
      ]
    },
    {
      "cell_type": "markdown",
      "metadata": {},
      "source": [
        "## Evaluate the best configuration\n\nNow that the search is over, let us print the best configuration found during this run and evaluate it on the full training dataset.\n\n"
      ]
    },
    {
      "cell_type": "code",
      "execution_count": null,
      "metadata": {
        "collapsed": false
      },
      "outputs": [],
      "source": [
        "i_max = results.objective.argmax()\nbest_config = results.iloc[i_max][:-3].to_dict()\nbest_config = {k[2:]: v for k, v in best_config.items() if k.startswith(\"p:\")}\n\nprint(f\"The default configuration has an accuracy of {objective_default:.3f}. \\n\" \n      f\"The best configuration found by DeepHyper has an accuracy {results['objective'].iloc[i_max]:.3f}, \\n\" \n      f\"finished after {results['m:timestamp_gather'].iloc[i_max]:.2f} secondes of search.\\n\")\n\nprint(json.dumps(best_config, indent=4))"
      ]
    },
    {
      "cell_type": "code",
      "execution_count": null,
      "metadata": {
        "collapsed": false
      },
      "outputs": [],
      "source": [
        "objective_best = perf_run(best_config)\nprint(f\"Accuracy Best Configuration:  {objective_best:.3f}\")"
      ]
    }
  ],
  "metadata": {
    "kernelspec": {
      "display_name": "Python 3",
      "language": "python",
      "name": "python3"
    },
    "language_info": {
      "codemirror_mode": {
        "name": "ipython",
        "version": 3
      },
      "file_extension": ".py",
      "mimetype": "text/x-python",
      "name": "python",
      "nbconvert_exporter": "python",
      "pygments_lexer": "ipython3",
      "version": "3.12.9"
    }
  },
  "nbformat": 4,
  "nbformat_minor": 0
}