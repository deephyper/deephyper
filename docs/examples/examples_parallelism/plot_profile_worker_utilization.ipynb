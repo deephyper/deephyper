{
  "cells": [
    {
      "cell_type": "markdown",
      "metadata": {},
      "source": [
        "\n# Profile the Worker Utilization\n\n**Author(s)**: Romain Egele.\n\nIn this example, you will learn how to profile the activity of workers during a \nsearch. \n\nWe start by defining an artificial black-box ``run``-function by using the Ackley function:\n\n<img src=\"https://www.sfu.ca/~ssurjano/ackley.png\" width=\"400\" alt=\"Ackley Function in 2D\">\n"
      ]
    },
    {
      "cell_type": "code",
      "execution_count": null,
      "metadata": {
        "collapsed": false
      },
      "outputs": [],
      "source": [
        "# .. dropdown:: Import statements\nimport time\n\nimport matplotlib.pyplot as plt\nimport numpy as np\n\nfrom deephyper.analysis import figure_size\nfrom deephyper.analysis.hpo import (\n    plot_search_trajectory_single_objective_hpo,\n    plot_worker_utilization,\n)\nfrom deephyper.evaluator import Evaluator, profile\nfrom deephyper.evaluator.callback import TqdmCallback\nfrom deephyper.hpo import CBO, HpProblem"
      ]
    },
    {
      "cell_type": "markdown",
      "metadata": {},
      "source": [
        "We define the Ackley function:\n\n"
      ]
    },
    {
      "cell_type": "code",
      "execution_count": null,
      "metadata": {
        "collapsed": false
      },
      "outputs": [],
      "source": [
        "# .. dropdown:: Ackley function\ndef ackley(x, a=20, b=0.2, c=2 * np.pi):\n    d = len(x)\n    s1 = np.sum(x**2)\n    s2 = np.sum(np.cos(c * x))\n    term1 = -a * np.exp(-b * np.sqrt(s1 / d))\n    term2 = -np.exp(s2 / d)\n    y = term1 + term2 + a + np.exp(1)\n    return y"
      ]
    },
    {
      "cell_type": "markdown",
      "metadata": {},
      "source": [
        "We will use the ``time.sleep`` function to simulate a budget of 2 secondes of execution in average \nwhich helps illustrate the advantage of parallel evaluations. The ``@profile`` decorator is useful \nto collect starting/ending time of the ``run``-function execution which help us know exactly when \nwe are inside the black-box. This decorator is necessary when profiling the worker utilization. When \nusing this decorator, the ``run``-function will return a dictionnary with 2 new keys ``\"timestamp_start\"`` \nand ``\"timestamp_end\"``.\n\n"
      ]
    },
    {
      "cell_type": "code",
      "execution_count": null,
      "metadata": {
        "collapsed": false
      },
      "outputs": [],
      "source": [
        "@profile\ndef run_ackley(config, sleep_loc=2, sleep_scale=0.5):\n    # to simulate the computation of an expensive black-box\n    if sleep_loc > 0:\n        t_sleep = np.random.normal(loc=sleep_loc, scale=sleep_scale)\n        t_sleep = max(t_sleep, 0)\n        time.sleep(t_sleep)\n\n    x = np.array([config[k] for k in config if \"x\" in k])\n    x = np.asarray_chkfinite(x)  # ValueError if any NaN or Inf\n    return -ackley(x)  # maximisation is performed"
      ]
    },
    {
      "cell_type": "markdown",
      "metadata": {},
      "source": [
        "Then we define the variable(s) we want to optimize. For this problem we\noptimize Ackley in a 2-dimensional search space, the true minimul is\nlocated at ``(0, 0)``.\n\n"
      ]
    },
    {
      "cell_type": "code",
      "execution_count": null,
      "metadata": {
        "collapsed": false
      },
      "outputs": [],
      "source": [
        "def create_problem(nb_dim=2):\n    nb_dim = 2\n    problem = HpProblem()\n    for i in range(nb_dim):\n        problem.add_hyperparameter((-32.768, 32.768), f\"x{i}\")\n    return problem\n\nproblem = create_problem()\nproblem"
      ]
    },
    {
      "cell_type": "markdown",
      "metadata": {},
      "source": [
        "Then we define a parallel search.\n As the ``run``-function is defined in the same module  we use the \"loky\" backend \nthat serialize by value.\n\n"
      ]
    },
    {
      "cell_type": "code",
      "execution_count": null,
      "metadata": {
        "collapsed": false
      },
      "outputs": [],
      "source": [
        "def execute_search(timeout, num_workers):\n\n    evaluator = Evaluator.create(\n        run_ackley,\n        method=\"loky\",\n        method_kwargs={\n            \"num_workers\": num_workers,\n            \"callbacks\": [TqdmCallback()],\n        },\n    )\n\n    search = CBO(\n        problem,\n        evaluator,\n        multi_point_strategy=\"qUCBd\",\n        random_state=42,\n    )\n\n    results = search.search(timeout=timeout)\n\n    return results\n\nif __name__ == \"__main__\":\n    timeout = 20\n    num_workers = 4\n    results = execute_search(timeout, num_workers)"
      ]
    },
    {
      "cell_type": "markdown",
      "metadata": {},
      "source": [
        "Finally, we plot the results from the collected DataFrame.\n\n"
      ]
    },
    {
      "cell_type": "code",
      "execution_count": null,
      "metadata": {
        "collapsed": false
      },
      "outputs": [],
      "source": [
        "# .. dropdown:: Plot search trajectory an workers utilization\nif __name__ == \"__main__\":\n    t0 = results[\"m:timestamp_start\"].iloc[0]\n    results[\"m:timestamp_start\"] = results[\"m:timestamp_start\"] - t0\n    results[\"m:timestamp_end\"] = results[\"m:timestamp_end\"] - t0\n    tmax = results[\"m:timestamp_end\"].max()\n\n    fig, axes = plt.subplots(\n        nrows=2,\n        ncols=1,\n        sharex=True,\n        figsize=figure_size(width=600),\n        tight_layout=True,\n    )\n\n    _ = plot_search_trajectory_single_objective_hpo(\n        results, mode=\"min\", x_units=\"seconds\", ax=axes[0],\n    )\n\n    _ = plot_worker_utilization(\n        results, num_workers=num_workers, profile_type=\"start/end\", ax=axes[1],\n    )"
      ]
    }
  ],
  "metadata": {
    "kernelspec": {
      "display_name": "Python 3",
      "language": "python",
      "name": "python3"
    },
    "language_info": {
      "codemirror_mode": {
        "name": "ipython",
        "version": 3
      },
      "file_extension": ".py",
      "mimetype": "text/x-python",
      "name": "python",
      "nbconvert_exporter": "python",
      "pygments_lexer": "ipython3",
      "version": "3.12.7"
    }
  },
  "nbformat": 4,
  "nbformat_minor": 0
}