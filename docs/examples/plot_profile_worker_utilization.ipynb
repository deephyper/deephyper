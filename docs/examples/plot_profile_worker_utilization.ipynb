{
  "cells": [
    {
      "cell_type": "markdown",
      "metadata": {},
      "source": [
        "\n# Profile the Worker Utilization\n\n**Author(s)**: Romain Egele.\n\nThis example demonstrates the advantages of parallel evaluations over serial\nevaluations. We start by defining an artificial black-box ``run``-function by\nusing the Ackley function:\n\n<img src=\"https://www.sfu.ca/~ssurjano/ackley.png\" width=\"400\" alt=\"Ackley Function in 2D\">\n\nWe will use the ``time.sleep`` function to simulate a budget of 2 secondes of\nexecution in average which helps illustrate the advantage of parallel\nevaluations. The ``@profile`` decorator is useful to collect starting/ending\ntime of the ``run``-function execution which help us know exactly when we are\ninside the black-box. This decorator is necessary when profiling the worker\nutilization. When using this decorator, the ``run``-function will return a\ndictionnary with 2 new keys ``\"timestamp_start\"`` and ``\"timestamp_end\"``.\nThe ``run``-function is defined in a separate module because of\nthe \"multiprocessing\" backend that we are using in this example.\n\n.. literalinclude:: ../../examples/black_box_util.py\n   :language: python\n   :emphasize-lines: 19-28\n   :linenos:\n\nAfter defining the black-box we can continue with the definition of our main script:\n"
      ]
    },
    {
      "cell_type": "code",
      "execution_count": null,
      "metadata": {
        "collapsed": false
      },
      "outputs": [],
      "source": [
        "import black_box_util as black_box\nimport matplotlib.pyplot as plt\n\nfrom deephyper.analysis import figure_size\nfrom deephyper.analysis.hpo import (\n    plot_search_trajectory_single_objective_hpo,\n    plot_worker_utilization,\n)\nfrom deephyper.evaluator import Evaluator\nfrom deephyper.evaluator.callback import TqdmCallback\nfrom deephyper.hpo import CBO, HpProblem"
      ]
    },
    {
      "cell_type": "markdown",
      "metadata": {},
      "source": [
        "Then we define the variable(s) we want to optimize. For this problem we\noptimize Ackley in a 2-dimensional search space, the true minimul is\nlocated at ``(0, 0)``.\n\n"
      ]
    },
    {
      "cell_type": "code",
      "execution_count": null,
      "metadata": {
        "collapsed": false
      },
      "outputs": [],
      "source": [
        "nb_dim = 2\nproblem = HpProblem()\nfor i in range(nb_dim):\n    problem.add_hyperparameter((-32.768, 32.768), f\"x{i}\")\nproblem"
      ]
    },
    {
      "cell_type": "markdown",
      "metadata": {},
      "source": [
        "Then we define a parallel search.\n\n"
      ]
    },
    {
      "cell_type": "code",
      "execution_count": null,
      "metadata": {
        "collapsed": false
      },
      "outputs": [],
      "source": [
        "if __name__ == \"__main__\":\n    timeout = 20\n    num_workers = 4\n    results = {}\n\n    evaluator = Evaluator.create(\n        black_box.run_ackley,\n        method=\"process\",\n        method_kwargs={\n            \"num_workers\": num_workers,\n            \"callbacks\": [TqdmCallback()],\n        },\n    )\n    search = CBO(\n        problem,\n        evaluator,\n        random_state=42,\n    )\n    results = search.search(timeout=timeout)"
      ]
    },
    {
      "cell_type": "markdown",
      "metadata": {},
      "source": [
        "Finally, we plot the results from the collected DataFrame.\n\n"
      ]
    },
    {
      "cell_type": "code",
      "execution_count": null,
      "metadata": {
        "collapsed": false
      },
      "outputs": [],
      "source": [
        "if __name__ == \"__main__\":\n    t0 = results[\"m:timestamp_start\"].iloc[0]\n    results[\"m:timestamp_start\"] = results[\"m:timestamp_start\"] - t0\n    results[\"m:timestamp_end\"] = results[\"m:timestamp_end\"] - t0\n    tmax = results[\"m:timestamp_end\"].max()\n\n    fig, axes = plt.subplots(\n        nrows=2,\n        ncols=1,\n        sharex=True,\n        figsize=figure_size(width=600),\n    )\n\n    plot_search_trajectory_single_objective_hpo(\n        results, mode=\"min\", x_units=\"seconds\", ax=axes[0]\n    )\n\n    plot_worker_utilization(\n        results, num_workers=num_workers, profile_type=\"start/end\", ax=axes[1]\n    )\n\n    plt.tight_layout()\n    plt.show()"
      ]
    }
  ],
  "metadata": {
    "kernelspec": {
      "display_name": "Python 3",
      "language": "python",
      "name": "python3"
    },
    "language_info": {
      "codemirror_mode": {
        "name": "ipython",
        "version": 3
      },
      "file_extension": ".py",
      "mimetype": "text/x-python",
      "name": "python",
      "nbconvert_exporter": "python",
      "pygments_lexer": "ipython3",
      "version": "3.12.4"
    }
  },
  "nbformat": 4,
  "nbformat_minor": 0
}