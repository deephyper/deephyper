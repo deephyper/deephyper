{
  "cells": [
    {
      "cell_type": "markdown",
      "metadata": {},
      "source": [
        "\n# Profile the Worker Utilization\n\n**Author(s)**: Romain Egele.\n\nThis example demonstrates the advantages of parallel evaluations over serial evaluations. We start by defining an artificial black-box ``run``-function by using the Ackley function:\n\n<img src=\"https://www.sfu.ca/~ssurjano/ackley.png\" width=\"400\" alt=\"Ackley Function in 2D\">\n\nWe will use the ``time.sleep`` function to simulate a budget of 2 secondes of execution in average which helps illustrate the advantage of parallel evaluations. The ``@profile`` decorator is useful to collect starting/ending time of the ``run``-function execution which help us know exactly when we are inside the black-box. This decorator is necessary when profiling the worker utilization. When using this decorator, the ``run``-function will return a dictionnary with 2 new keys ``\"timestamp_start\"`` and ``\"timestamp_end\"``. The ``run``-function is defined in a separate module because of the \"multiprocessing\" backend that we are using in this example.\n\n.. literalinclude:: ../../examples/black_box_util.py\n   :language: python\n   :emphasize-lines: 19-28 \n   :linenos:\n\nAfter defining the black-box we can continue with the definition of our main script:\n"
      ]
    },
    {
      "cell_type": "code",
      "execution_count": null,
      "metadata": {
        "collapsed": false
      },
      "outputs": [],
      "source": [
        "import black_box_util as black_box\n\nfrom deephyper.analysis._matplotlib import update_matplotlib_rc\n\nupdate_matplotlib_rc()"
      ]
    },
    {
      "cell_type": "markdown",
      "metadata": {},
      "source": [
        "Then we define the variable(s) we want to optimize. For this problem we optimize Ackley in a 2-dimensional search space, the true minimul is located at ``(0, 0)``.\n\n"
      ]
    },
    {
      "cell_type": "code",
      "execution_count": null,
      "metadata": {
        "collapsed": false
      },
      "outputs": [],
      "source": [
        "from deephyper.problem import HpProblem\n\n\nnb_dim = 2\nproblem = HpProblem()\nfor i in range(nb_dim):\n    problem.add_hyperparameter((-32.768, 32.768), f\"x{i}\")\nproblem"
      ]
    },
    {
      "cell_type": "markdown",
      "metadata": {},
      "source": [
        "Then we define a parallel search.\n\n"
      ]
    },
    {
      "cell_type": "code",
      "execution_count": null,
      "metadata": {
        "collapsed": false
      },
      "outputs": [],
      "source": [
        "if __name__ == \"__main__\":\n    from deephyper.evaluator import Evaluator\n    from deephyper.evaluator.callback import TqdmCallback\n    from deephyper.search.hps import CBO\n\n    timeout = 20\n    num_workers = 4\n    results = {}\n\n    evaluator = Evaluator.create(\n        black_box.run_ackley,\n        method=\"process\",\n        method_kwargs={\n            \"num_workers\": num_workers,\n            \"callbacks\": [TqdmCallback()],\n        },\n    )\n    search = CBO(problem, evaluator, random_state=42)\n    results = search.search(timeout=timeout)"
      ]
    },
    {
      "cell_type": "markdown",
      "metadata": {},
      "source": [
        "Finally, we plot the results from the collected DataFrame.\n\n"
      ]
    },
    {
      "cell_type": "code",
      "execution_count": null,
      "metadata": {
        "collapsed": false
      },
      "outputs": [],
      "source": [
        "if __name__ == \"__main__\":\n    import matplotlib.pyplot as plt\n    import numpy as np\n\n    def compile_profile(df):\n        \"\"\"Take the results dataframe as input and return the number of jobs running at a given timestamp.\"\"\"\n        history = []\n\n        for _, row in df.iterrows():\n            history.append((row[\"m:timestamp_start\"], 1))\n            history.append((row[\"m:timestamp_end\"], -1))\n\n        history = sorted(history, key=lambda v: v[0])\n        nb_workers = 0\n        timestamp = [0]\n        n_jobs_running = [0]\n        for time, incr in history:\n            nb_workers += incr\n            timestamp.append(time)\n            n_jobs_running.append(nb_workers)\n\n        return timestamp, n_jobs_running\n\n    t0 = results[\"m:timestamp_start\"].iloc[0]\n    results[\"m:timestamp_start\"] = results[\"m:timestamp_start\"] - t0\n    results[\"m:timestamp_end\"] = results[\"m:timestamp_end\"] - t0\n    tmax = results[\"m:timestamp_end\"].max()\n\n    plt.figure()\n\n    plt.subplot(2, 1, 1)\n    plt.scatter(results[\"m:timestamp_end\"], results.objective)\n    plt.plot(results[\"m:timestamp_end\"], results.objective.cummax())\n    plt.xlabel(\"Time (sec.)\")\n    plt.ylabel(\"Objective\")\n    plt.grid()\n    plt.xlim(0, tmax)\n\n    plt.subplot(2, 1, 2)\n    x, y = compile_profile(results)\n    y = np.asarray(y) / num_workers * 100\n\n    plt.step(\n        x,\n        y,\n        where=\"pre\",\n    )\n    plt.ylim(0, 100)\n    plt.xlim(0, tmax)\n    plt.xlabel(\"Time (sec.)\")\n    plt.ylabel(\"Worker Utilization (\\%)\")\n    plt.tight_layout()\n    plt.show()"
      ]
    }
  ],
  "metadata": {
    "kernelspec": {
      "display_name": "Python 3",
      "language": "python",
      "name": "python3"
    },
    "language_info": {
      "codemirror_mode": {
        "name": "ipython",
        "version": 3
      },
      "file_extension": ".py",
      "mimetype": "text/x-python",
      "name": "python",
      "nbconvert_exporter": "python",
      "pygments_lexer": "ipython3",
      "version": "3.11.6"
    }
  },
  "nbformat": 4,
  "nbformat_minor": 0
}