{
  "cells": [
    {
      "cell_type": "markdown",
      "metadata": {},
      "source": [
        "\n# From Serial to Parallel Evaluations\n\n**Author(s)**: Romain Egele.\n\nThis example demonstrates the advantages of parallel evaluations over sequential\nevaluations. We start by defining an artificial black-box ``run``-function by\nusing the Ackley function:\n\n<img src=\"https://www.sfu.ca/~ssurjano/ackley.png\" width=\"400\" alt=\"Ackley Function in 2D\">\n\nWe will use the ``time.sleep`` function to simulate a budget of 2 secondes of\nexecution in average which helps illustrate the advantage of parallel\nevaluations. The ``@profile`` decorator is useful to collect starting/ending\ntime of the ``run``-function execution which help us know exactly when we are\ninside the black-box. When using this decorator, the ``run``-function will\nreturn a dictionnary with 2 new keys ``\"timestamp_start\"`` and\n``\"timestamp_end\"``. The ``run``-function is defined in a separate module\nbecause of the \"multiprocessing\" backend that we are using in this example.\n\n.. literalinclude:: ../../examples/black_box_util.py\n   :language: python\n\nAfter defining the black-box we can continue with the definition of our main script:\n"
      ]
    },
    {
      "cell_type": "code",
      "execution_count": null,
      "metadata": {
        "collapsed": false
      },
      "outputs": [],
      "source": [
        "import black_box_util as black_box\nimport matplotlib.pyplot as plt\n\nfrom deephyper.analysis import figure_size\nfrom deephyper.analysis.hpo import plot_search_trajectory_single_objective_hpo\nfrom deephyper.evaluator import Evaluator\nfrom deephyper.evaluator.callback import TqdmCallback\nfrom deephyper.hpo import HpProblem, CBO"
      ]
    },
    {
      "cell_type": "markdown",
      "metadata": {},
      "source": [
        "Then we define the variable(s) we want to optimize. For this problem we\noptimize Ackley in a 5-dimensional search space, the true minimul is\nlocated at ``(0, 0, 0, 0, 0)``.\n\n"
      ]
    },
    {
      "cell_type": "code",
      "execution_count": null,
      "metadata": {
        "collapsed": false
      },
      "outputs": [],
      "source": [
        "nb_dim = 5\nproblem = HpProblem()\nfor i in range(nb_dim):\n    problem.add_hyperparameter((-32.768, 32.768), f\"x{i}\")\nproblem"
      ]
    },
    {
      "cell_type": "markdown",
      "metadata": {},
      "source": [
        "Then we define sequential search by creating a ``\"thread\"``-evaluator and we\nexecute the search with a fixed time-budget of 2 minutes.\n\n"
      ]
    },
    {
      "cell_type": "code",
      "execution_count": null,
      "metadata": {
        "collapsed": false
      },
      "outputs": [],
      "source": [
        "timeout = 120  # in seconds\nsearch_kwargs = {\n    \"n_initial_points\": 2*5+1,\n    \"surrogate_model\": \"ET\",\n    \"surrogate_model_kwargs\": {\n        \"n_estimators\": 25, \n        \"min_samples_split\": 8, \n    },\n    \"multi_point_strategy\": \"qUCBd\",\n    \"acq_optimizer\": \"ga\",\n    \"acq_optimizer_freq\": 1,\n    \"filter_duplicated\": False,\n    \"kappa\": 10.0,\n    \"scheduler\": {\"type\": \"periodic-exp-decay\", \"period\": 50, \"kappa_final\": 0.001},\n    \"random_state\": 42,\n\n}\nsequential_evaluator = Evaluator.create(\n    black_box.run_ackley,\n    method=\"thread\",  # because the ``run_function`` is not asynchronous\n    method_kwargs={\"num_workers\": 1, \"callbacks\": [TqdmCallback()]},\n)\nprint(\"Running sequential search...\")\nresults = {}\nsequential_search = CBO(problem, sequential_evaluator, **search_kwargs)\nresults[\"sequential\"] = sequential_search.search(timeout=timeout)\nresults[\"sequential\"][\"m:timestamp_end\"] = (\n    results[\"sequential\"][\"m:timestamp_end\"]\n    - results[\"sequential\"][\"m:timestamp_start\"].iloc[0]\n)"
      ]
    },
    {
      "cell_type": "markdown",
      "metadata": {},
      "source": [
        "After, executing the sequential-search for 2 minutes we can create a \"parallel\"\nsearch simulated by the ``\"thread\"``-evaluator and 100 workers. The search is \nalso executed for 2 minutes.\n\n"
      ]
    },
    {
      "cell_type": "code",
      "execution_count": null,
      "metadata": {
        "collapsed": false
      },
      "outputs": [],
      "source": [
        "parallel_evaluator = Evaluator.create(\n    black_box.run_ackley,\n    method=\"thread\",\n    method_kwargs={\"num_workers\": 100, \"callbacks\": [TqdmCallback()]},\n)\nprint(\"Running parallel search...\")\nparallel_search = CBO(problem, parallel_evaluator, **search_kwargs)\nresults[\"parallel\"] = parallel_search.search(timeout=timeout)\nresults[\"parallel\"][\"m:timestamp_end\"] = (\n    results[\"parallel\"][\"m:timestamp_end\"]\n    - results[\"parallel\"][\"m:timestamp_start\"].iloc[0]\n)"
      ]
    },
    {
      "cell_type": "markdown",
      "metadata": {},
      "source": [
        "Finally, we plot the results from the collected DataFrame. The execution\ntime is used as the x-axis which help-us vizualise the advantages of the\nparallel search.\n\n"
      ]
    },
    {
      "cell_type": "code",
      "execution_count": null,
      "metadata": {
        "collapsed": false
      },
      "outputs": [],
      "source": [
        "fig, ax = plt.subplots(figsize=figure_size(width=600))\n\nfor i, (strategy, df) in enumerate(results.items()):\n    plot_search_trajectory_single_objective_hpo(\n        df,\n        show_failures=False,\n        mode=\"min\",\n        x_units=\"seconds\",\n        ax=ax,\n        label=strategy,\n        plot_kwargs={\"color\": f\"C{i}\"},\n        scatter_success_kwargs={\"color\": f\"C{i}\"},\n    )\n\nplt.xlabel(\"Time (sec.)\")\nplt.ylabel(\"Objective\")\nplt.yscale(\"log\")\nplt.grid(visible=True, which=\"minor\", linestyle=\":\")\nplt.grid(visible=True, which=\"major\", linestyle=\"-\")\nplt.legend()\nplt.show()"
      ]
    }
  ],
  "metadata": {
    "kernelspec": {
      "display_name": "Python 3",
      "language": "python",
      "name": "python3"
    },
    "language_info": {
      "codemirror_mode": {
        "name": "ipython",
        "version": 3
      },
      "file_extension": ".py",
      "mimetype": "text/x-python",
      "name": "python",
      "nbconvert_exporter": "python",
      "pygments_lexer": "ipython3",
      "version": "3.12.4"
    }
  },
  "nbformat": 4,
  "nbformat_minor": 0
}