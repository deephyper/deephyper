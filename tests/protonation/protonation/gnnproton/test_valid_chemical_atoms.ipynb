{
 "cells": [
  {
   "cell_type": "code",
   "execution_count": 2,
   "metadata": {},
   "outputs": [],
   "source": [
    "import os\n",
    "import numpy as np\n",
    "import pickle\n",
    "from protonation.gnnproton.Data_Processing import molecule\n",
    "from protonation.gnnproton.train_utils import load_data_split, load_dict, load_data_func\n",
    "\n",
    "# define necessary parameters\n",
    "elem_list = ['C', 'O', 'H', 'unknown']  # species of atoms\n",
    "atom_fdim = len(elem_list) + 6 + 6 + 6 + 1  # number of atomic features\n",
    "bond_fdim = 6  # number of bond features\n",
    "max_nb = 6  # maximum number of neighbors\n",
    "output_fdim = 1  # output feature dimension\n",
    "max_atom = 31  # maximum atoms in the molecule\n",
    "\n",
    "DATA_DIR = r'/mnt/d/machinelearning2/ANL/archive/gnn/Data/Train_Data/Total_Data.pkl'\n",
    "TEST_DATA_DIR = r'/mnt/d/machinelearning2/ANL/archive/gnn/Data/Test_Data/Data/Test_Data.pkl'\n",
    "TEST_DIR = r'/mnt/d/machinelearning2/ANL/archive/gnn/Data/Test_Data/Data/Test_Keys.txt'\n",
    "TRAIN_DIR = r'/mnt/d/machinelearning2/ANL/archive/gnn/Data/Train_Data/Train_Keys.txt'\n",
    "VALID_DIR = r'/mnt/d/machinelearning2/ANL/archive/gnn/Data/Train_Data/Valid_Keys.txt'\n",
    "test_data_dict = load_dict(name=TEST_DATA_DIR)\n",
    "test, _ = load_data_split(TEST_DIR, TRAIN_DIR)\n",
    "train, valid = load_data_split(TRAIN_DIR, VALID_DIR)\n",
    "test = np.array(test)\n",
    "train = np.array(train)\n",
    "valid = np.array(valid)\n",
    "data_dict = load_dict(name=DATA_DIR)"
   ]
  },
  {
   "cell_type": "code",
   "execution_count": 18,
   "metadata": {},
   "outputs": [
    {
     "data": {
      "text/plain": [
       "6"
      ]
     },
     "execution_count": 18,
     "metadata": {},
     "output_type": "execute_result"
    }
   ],
   "source": [
    "data_dict[valid[0]].rdkit_mol.GetAtoms()[0].GetAtomicNum()"
   ]
  },
  {
   "cell_type": "code",
   "execution_count": 20,
   "metadata": {},
   "outputs": [],
   "source": [
    "valid_atomic_nums = []\n",
    "for id, mol in enumerate(valid):\n",
    "    atomic_nums = []\n",
    "    for atom in data_dict[mol].rdkit_mol.GetAtoms():\n",
    "        atomic_num = atom.GetAtomicNum()\n",
    "        atomic_nums.append(atomic_num)\n",
    "    valid_atomic_nums.append(atomic_nums)\n",
    "with open(\"./protonation_valid_keys.pickle\", \"wb\") as handle:\n",
    "    pickle.dump(valid, handle)\n",
    "    pickle.dump(valid_atomic_nums, handle)"
   ]
  },
  {
   "cell_type": "code",
   "execution_count": null,
   "metadata": {},
   "outputs": [],
   "source": []
  }
 ],
 "metadata": {
  "kernelspec": {
   "display_name": "Python 3",
   "language": "python",
   "name": "python3"
  },
  "language_info": {
   "codemirror_mode": {
    "name": "ipython",
    "version": 3
   },
   "file_extension": ".py",
   "mimetype": "text/x-python",
   "name": "python",
   "nbconvert_exporter": "python",
   "pygments_lexer": "ipython3",
   "version": "3.7.6"
  }
 },
 "nbformat": 4,
 "nbformat_minor": 4
}
