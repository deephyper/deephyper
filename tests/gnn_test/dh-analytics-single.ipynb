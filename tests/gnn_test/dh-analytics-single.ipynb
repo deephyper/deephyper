{
 "cells": [
  {
   "cell_type": "markdown",
   "metadata": {
    "ExecuteTime": {
     "end_time": "2019-05-06T21:59:04.765111Z",
     "start_time": "2019-05-06T21:59:04.762923Z"
    }
   },
   "source": [
    "# Deephyper analytics - single study\n",
    "**path to data file**: data_2020-06-13_04.json\n",
    "\n",
    "for customization please see: https://matplotlib.org/api/matplotlib_configuration_api.html\n",
    "\n",
    "## Setup & Data loading"
   ]
  },
  {
   "cell_type": "code",
   "execution_count": null,
   "metadata": {
    "ExecuteTime": {
     "end_time": "2019-05-06T22:00:21.530180Z",
     "start_time": "2019-05-06T22:00:21.459136Z"
    }
   },
   "outputs": [],
   "source": [
    "path_to_data_file = 'data_2020-06-13_04.json'"
   ]
  },
  {
   "cell_type": "code",
   "execution_count": null,
   "metadata": {},
   "outputs": [],
   "source": [
    "import matplotlib\n",
    "import matplotlib.pyplot as plt\n",
    "import numpy as np\n",
    "import json\n",
    "from pprint import pprint\n",
    "from datetime import datetime\n",
    "from tqdm import tqdm\n",
    "from IPython.display import display, Markdown\n",
    "\n",
    "width = 21\n",
    "height = width/1.618\n",
    "\n",
    "matplotlib.rcParams.update({\n",
    "    'font.size': 21,\n",
    "    'figure.figsize': (width, height), \n",
    "    'figure.facecolor': 'white', \n",
    "    'savefig.dpi': 72, \n",
    "    'figure.subplot.bottom': 0.125, \n",
    "    'figure.edgecolor': 'white',\n",
    "    'xtick.labelsize': 21,\n",
    "    'ytick.labelsize': 21})\n",
    "\n",
    "def to_sec(ts):\n",
    "    try:\n",
    "        return datetime.strptime(ts, '%Y-%m-%d %H:%M:%S').timestamp()\n",
    "    except:\n",
    "        return datetime.strptime(ts, '%Y-%m-%d %H:%M:%S.%f').timestamp()\n",
    "\n",
    "def load_json(path):\n",
    "    with open(path, 'r') as f:\n",
    "        data = json.load(f)\n",
    "    return data\n",
    "\n",
    "data = load_json(path_to_data_file)\n",
    "print(list(data.keys()))\n",
    "\n",
    "start_infos = data['start_infos'][0]\n",
    "\n",
    "try:\n",
    "    start_time = to_sec(data['workload']['times'][0])\n",
    "except:\n",
    "    start_time = to_sec(start_infos['timestamp'])\n",
    "    \n",
    "pprint(start_infos)"
   ]
  },
  {
   "cell_type": "markdown",
   "metadata": {},
   "source": [
    "## Number of different search_spaces & evaluations done"
   ]
  },
  {
   "cell_type": "code",
   "execution_count": null,
   "metadata": {},
   "outputs": [],
   "source": [
    "try:\n",
    "    from deephyper.search import util\n",
    "    \n",
    "    config = json.loads(start_infos['encoded_space'])\n",
    "\n",
    "    config['create_search_space']['func'] = util.load_attr_from(\n",
    "        config['create_search_space']['func'])\n",
    "\n",
    "    cs_kwargs = config['create_search_space'].get('kwargs')\n",
    "    if cs_kwargs is None:\n",
    "        create_search_space = lambda: config['create_search_space']['func']()\n",
    "    else:\n",
    "        create_search_space = lambda: config['create_search_space']['func'](**cs_kwargs)\n",
    "\n",
    "    search_space = create_search_space()\n",
    "\n",
    "    den_archs = list()\n",
    "    for arch_seq in tqdm(data['arch_seq']):\n",
    "        res = search_space.denormalize(arch_seq)\n",
    "        den_archs.append(str(res))\n",
    "\n",
    "    num_diff_archs = len({e for e in den_archs})\n",
    "    num_evaluations = len(data['arch_seq'])\n",
    "    display(Markdown(f'The search has done **{num_evaluations}** *evaluations* and has generated **{num_diff_archs}** *different neural networkss*.'))\n",
    "    display(Markdown(f'The search space size is **{search_space.size}**\\nand **{num_diff_archs/search_space.size*100}**% has been explored.'))\n",
    "except Exception as e:\n",
    "    print('Exception: ', e)\n",
    "    print('Cell failed so it was skipped... it is probably related with a bad kernel being used.')"
   ]
  },
  {
   "cell_type": "markdown",
   "metadata": {
    "ExecuteTime": {
     "end_time": "2019-05-06T22:29:00.322201Z",
     "start_time": "2019-05-06T22:29:00.319648Z"
    }
   },
   "source": [
    "## Search trajectory\n",
    "### Raw rewards"
   ]
  },
  {
   "cell_type": "code",
   "execution_count": null,
   "metadata": {},
   "outputs": [],
   "source": [
    "def moving_average(data_list, window_size=100):\n",
    "    res_list = list()\n",
    "    for i in range(len(data_list) - window_size):\n",
    "            res_list.append(sum(data_list[i:i+window_size])/window_size)\n",
    "    return res_list\n",
    "\n",
    "window_size = 100\n",
    "\n",
    "plt.plot(moving_average(data['raw_rewards'], window_size))\n",
    "\n",
    "plt.ylabel('Reward')\n",
    "plt.xlabel('Evaluations')\n",
    "plt.xlim(left=0)\n",
    "plt.grid()\n",
    "plt.show()"
   ]
  },
  {
   "cell_type": "code",
   "execution_count": null,
   "metadata": {},
   "outputs": [],
   "source": [
    "times = [to_sec(ts)-start_time for ts in data['timestamps']]\n",
    "plt.plot(times, data['raw_rewards'], 'o')\n",
    "\n",
    "plt.ylabel('Reward')\n",
    "plt.xlabel('Time (s.)')\n",
    "\n",
    "plt.xlim(left=0)\n",
    "plt.ylim(0.8, 1.0)\n",
    "plt.grid()\n",
    "plt.show()"
   ]
  },
  {
   "cell_type": "markdown",
   "metadata": {},
   "source": [
    "### Average reward per batch"
   ]
  },
  {
   "cell_type": "code",
   "execution_count": null,
   "metadata": {},
   "outputs": [],
   "source": [
    "avr_reward_mbatches = [np.mean(stats['rewards']) for stats in data['env_stats']]\n",
    "times = [to_sec(stats['timestamp'])-start_time for stats in data['env_stats']]\n",
    "\n",
    "plt.plot(times, avr_reward_mbatches)\n",
    "\n",
    "plt.ylabel('Reward')\n",
    "plt.xlabel('Time (s.)')\n",
    "plt.xlim(left=0)\n",
    "plt.grid()\n",
    "plt.show()"
   ]
  },
  {
   "cell_type": "markdown",
   "metadata": {},
   "source": [
    "## Workload\n",
    "### Profile"
   ]
  },
  {
   "cell_type": "code",
   "execution_count": null,
   "metadata": {},
   "outputs": [],
   "source": [
    "times = [to_sec(t)-start_time for t in data['workload']['times']]\n",
    "num_running = (np.array(data['workload']['num_running']) - 1)\n",
    "try:\n",
    "    nworkers = start_infos['nworkers']\n",
    "except:\n",
    "    nworkers = int(input('How many workers do you have ?'))\n",
    "num_running_norm = num_running / nworkers\n",
    "\n",
    "plt.fill_between(times, num_running_norm, step=\"post\", label='real')\n",
    "plt.plot(moving_average(times), moving_average(num_running_norm), 'r:', linewidth=3, label='avrg')\n",
    "\n",
    "plt.xlabel('Time (s)')\n",
    "plt.ylabel('Node utilization')\n",
    "plt.xlim(left=0)\n",
    "plt.ylim(bottom=0)\n",
    "plt.legend()\n",
    "plt.grid()\n",
    "plt.show()"
   ]
  },
  {
   "cell_type": "markdown",
   "metadata": {},
   "source": [
    "### Pie chart"
   ]
  },
  {
   "cell_type": "code",
   "execution_count": null,
   "metadata": {},
   "outputs": [],
   "source": [
    "def integrate_square(x, y, offset=0):\n",
    "    res = 0\n",
    "    for i in range(len(x)-1):\n",
    "        res += (x[i+1] - x[i]) * y[i]\n",
    "    return res\n",
    "\n",
    "nagents = start_infos.get('nagents', 1)\n",
    "nworkers = start_infos['nworkers'] - nagents\n",
    "total_available = nworkers * times[-1]\n",
    "used_time = integrate_square(times, num_running)\n",
    "unused_time = total_available - used_time\n",
    "perc_used_time = int(used_time / total_available * 100)\n",
    "perc_unused_time = int(unused_time / total_available * 100)\n",
    "label_used_time = f'{perc_used_time}% used'\n",
    "label_unused_time = f'{perc_unused_time}% unused'\n",
    "lpie = plt.pie([used_time, unused_time],\n",
    "               labels=[label_used_time, label_unused_time],\n",
    "               colors=['green', 'red'])\n",
    "plt.show()"
   ]
  },
  {
   "cell_type": "markdown",
   "metadata": {},
   "source": [
    "## Minibatches\n",
    "### Timing of minibatches evaluation"
   ]
  },
  {
   "cell_type": "code",
   "execution_count": null,
   "metadata": {},
   "outputs": [],
   "source": [
    "nca_list = []\n",
    "times = []\n",
    "\n",
    "for stats in tqdm(data['env_stats']):\n",
    "    nca = stats['batch_computation']\n",
    "    nca_list.append(nca)\n",
    "    time = to_sec(stats['timestamp']) - start_time\n",
    "    times.append(time)\n",
    "        \n",
    "display(Markdown(f'**Mean time** of batch computation = _{np.mean(nca_list)}_ *s.*'))\n",
    "display(Markdown(f'**Median time** of batch computation = _{np.median(nca_list)}_ *s.*'))\n",
    "\n",
    "plt.scatter(times, nca_list, s=55, facecolors='none', edgecolors='b')\n",
    "        \n",
    "plt.ylabel('Batch Computation Time')\n",
    "plt.xlabel('Time (s.)')\n",
    "plt.xlim(left=0)\n",
    "plt.ylim(bottom=0)\n",
    "plt.grid()\n",
    "plt.show()"
   ]
  },
  {
   "cell_type": "markdown",
   "metadata": {},
   "source": [
    "## Cache\n",
    "### Number of evaluation cached"
   ]
  },
  {
   "cell_type": "code",
   "execution_count": null,
   "metadata": {},
   "outputs": [],
   "source": [
    "window_size = 1\n",
    "\n",
    "nca_list = []\n",
    "times = []\n",
    "last_nca_rank = {}\n",
    "for stats in tqdm(data['env_stats']):\n",
    "    if 'ranks' in stats:\n",
    "        rank = stats['rank']\n",
    "    else:\n",
    "        rank = 0\n",
    "    nca = stats['num_cache_used']\n",
    "    time = to_sec(stats['timestamp']) - start_time\n",
    "    last_nca = last_nca_rank.get(rank)\n",
    "    if last_nca_rank.get(rank) is None:\n",
    "        last_nca = 0\n",
    "    nca_list.append(nca-last_nca)\n",
    "    times.append(time)\n",
    "    last_nca_rank[rank] = nca\n",
    "\n",
    "nca_list = moving_average(nca_list, window_size)\n",
    "times = moving_average(times, window_size)\n",
    "\n",
    "plt.scatter(times, nca_list, s=55, facecolors='none', edgecolors='b')\n",
    "        \n",
    "plt.ylabel('Cache accesses')\n",
    "plt.xlabel('Time (s.)')\n",
    "plt.xlim(left=0)\n",
    "plt.ylim(bottom=0)\n",
    "plt.grid()\n",
    "plt.show()"
   ]
  }
 ],
 "metadata": {
  "kernelspec": {
   "display_name": "Python 3",
   "language": "python",
   "name": "python3"
  },
  "language_info": {
   "codemirror_mode": {
    "name": "ipython",
    "version": 3
   },
   "file_extension": ".py",
   "mimetype": "text/x-python",
   "name": "python",
   "nbconvert_exporter": "python",
   "pygments_lexer": "ipython3",
   "version": "3.6.8"
  },
  "toc": {
   "base_numbering": 1,
   "nav_menu": {},
   "number_sections": true,
   "sideBar": true,
   "skip_h1_title": false,
   "title_cell": "Table of Contents",
   "title_sidebar": "Contents",
   "toc_cell": false,
   "toc_position": {},
   "toc_section_display": true,
   "toc_window_display": false
  }
 },
 "nbformat": 4,
 "nbformat_minor": 2
}
